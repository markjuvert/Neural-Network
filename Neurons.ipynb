{
 "cells": [
  {
   "cell_type": "code",
   "execution_count": 2,
   "metadata": {},
   "outputs": [
    {
     "name": "stderr",
     "output_type": "stream",
     "text": [
      "/Users/markjuvert/opt/anaconda3/lib/python3.6/site-packages/joblib/externals/loky/process_executor.py:706: UserWarning: A worker stopped while some jobs were given to the executor. This can be caused by a too short worker timeout or by a memory leak.\n",
      "  \"timeout or by a memory leak.\", UserWarning\n"
     ]
    },
    {
     "name": "stdout",
     "output_type": "stream",
     "text": [
      "Best: 0.688802 using {'neurons': 45}\n",
      "0.648438 (0.026107) with: {'neurons': 1}\n",
      "0.670573 (0.019488) with: {'neurons': 5}\n",
      "0.684896 (0.024360) with: {'neurons': 6}\n",
      "0.670573 (0.012890) with: {'neurons': 7}\n",
      "0.680990 (0.025780) with: {'neurons': 8}\n",
      "0.673177 (0.004872) with: {'neurons': 9}\n",
      "0.669271 (0.014731) with: {'neurons': 10}\n",
      "0.667969 (0.013902) with: {'neurons': 11}\n",
      "0.687500 (0.005524) with: {'neurons': 12}\n",
      "0.666667 (0.014382) with: {'neurons': 13}\n",
      "0.675781 (0.008438) with: {'neurons': 15}\n",
      "0.679688 (0.030758) with: {'neurons': 20}\n",
      "0.675781 (0.008438) with: {'neurons': 25}\n",
      "0.674479 (0.021236) with: {'neurons': 30}\n",
      "0.680990 (0.019488) with: {'neurons': 35}\n",
      "0.682292 (0.025780) with: {'neurons': 40}\n",
      "0.688802 (0.019225) with: {'neurons': 45}\n",
      "0.675781 (0.003189) with: {'neurons': 50}\n",
      "0.671875 (0.017758) with: {'neurons': 60}\n",
      "0.673177 (0.021236) with: {'neurons': 70}\n",
      "0.688802 (0.011201) with: {'neurons': 80}\n",
      "0.670573 (0.010253) with: {'neurons': 90}\n",
      "0.673177 (0.004872) with: {'neurons': 100}\n"
     ]
    }
   ],
   "source": [
    "# Use scikit-learn to grid search the number of neurons\n",
    "import numpy\n",
    "from sklearn.model_selection import GridSearchCV\n",
    "from keras.models import Sequential\n",
    "from keras.layers import Dense\n",
    "from keras.layers import Dropout\n",
    "from keras.wrappers.scikit_learn import KerasClassifier\n",
    "from keras.constraints import maxnorm\n",
    "# Function to create model, required for KerasClassifier\n",
    "def create_model(neurons=1):\n",
    "\t# create model\n",
    "\tmodel = Sequential()\n",
    "\tmodel.add(Dense(neurons, input_dim=8, kernel_initializer='uniform', activation='linear', kernel_constraint=maxnorm(4)))\n",
    "\tmodel.add(Dropout(0.2))\n",
    "\tmodel.add(Dense(1, kernel_initializer='uniform', activation='sigmoid'))\n",
    "\t# Compile model\n",
    "\tmodel.compile(loss='mse', optimizer='adam', metrics=['accuracy'])\n",
    "\treturn model\n",
    "# fix random seed for reproducibility\n",
    "seed = 7\n",
    "numpy.random.seed(seed)\n",
    "# load dataset\n",
    "dataset = numpy.loadtxt(\"/Users/markjuvert/Desktop/RNN/Limestone_data.csv\", delimiter=\",\")\n",
    "# split into input (X) and output (Y) variables\n",
    "X = dataset[:,0:8]\n",
    "Y = dataset[:,8]\n",
    "# create model\n",
    "model = KerasClassifier(build_fn=create_model, epochs=15, batch_size=32, verbose=0)\n",
    "# define the grid search parameters\n",
    "neurons = [1, 5, 6, 7, 8, 9, 10, 11, 12, 13, 15, 20, 25, 30, 35, 40, 45, 50, 60, 70, 80, 90, 100]\n",
    "param_grid = dict(neurons=neurons)\n",
    "grid = GridSearchCV(estimator=model, param_grid=param_grid, n_jobs=-1, cv=3)\n",
    "grid_result = grid.fit(X, Y)\n",
    "# summarize results\n",
    "print(\"Best: %f using %s\" % (grid_result.best_score_, grid_result.best_params_))\n",
    "means = grid_result.cv_results_['mean_test_score']\n",
    "stds = grid_result.cv_results_['std_test_score']\n",
    "params = grid_result.cv_results_['params']\n",
    "for mean, stdev, param in zip(means, stds, params):\n",
    "    print(\"%f (%f) with: %r\" % (mean, stdev, param))"
   ]
  }
 ],
 "metadata": {
  "kernelspec": {
   "display_name": "Python 3",
   "language": "python",
   "name": "python3"
  },
  "language_info": {
   "codemirror_mode": {
    "name": "ipython",
    "version": 3
   },
   "file_extension": ".py",
   "mimetype": "text/x-python",
   "name": "python",
   "nbconvert_exporter": "python",
   "pygments_lexer": "ipython3",
   "version": "3.6.10"
  }
 },
 "nbformat": 4,
 "nbformat_minor": 4
}
