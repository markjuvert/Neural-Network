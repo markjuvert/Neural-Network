{
 "cells": [
  {
   "cell_type": "code",
   "execution_count": 5,
   "metadata": {},
   "outputs": [
    {
     "name": "stdout",
     "output_type": "stream",
     "text": [
      "Best: 0.087619 using {'optimizer': 'Adam'}\n",
      "0.087619 (0.121228) with: {'optimizer': 'Adam'}\n",
      "0.000635 (0.000898) with: {'optimizer': 'Adamax'}\n",
      "0.086349 (0.122116) with: {'optimizer': 'SGD'}\n",
      "0.001905 (0.002694) with: {'optimizer': 'RMSprop'}\n",
      "0.001270 (0.001796) with: {'optimizer': 'Adagrad'}\n",
      "0.086349 (0.122116) with: {'optimizer': 'Adadelta'}\n",
      "0.001270 (0.001796) with: {'optimizer': 'Nadam'}\n"
     ]
    }
   ],
   "source": [
    "# Use scikit-learn to grid search the batch size and epochs\n",
    "import numpy\n",
    "from sklearn.model_selection import GridSearchCV\n",
    "from keras.models import Sequential\n",
    "from keras.layers import Dense\n",
    "from keras.wrappers.scikit_learn import KerasClassifier\n",
    "# Function to create model, required for KerasClassifier\n",
    "def create_model(optimizer='adam'):\n",
    "\t# create model\n",
    "\tmodel = Sequential()\n",
    "\tmodel.add(Dense(12, input_dim=6, activation='relu'))\n",
    "\tmodel.add(Dense(1, activation='relu'))\n",
    "\t# Compile model\n",
    "\tmodel.compile(loss='mse', optimizer=optimizer, metrics=['accuracy'])\n",
    "\treturn model\n",
    "# fix random seed for reproducibility\n",
    "seed = 7\n",
    "numpy.random.seed(seed)\n",
    "# load dataset\n",
    "dataset = numpy.loadtxt(\"/Users/markjuvert/Desktop/RNN/Limestone_data.csv\", delimiter=\",\")\n",
    "# split into input (X) and output (Y) variables\n",
    "X = dataset[:,0:8]\n",
    "Y = dataset[:,2]\n",
    "# create model\n",
    "model = KerasClassifier(build_fn=create_model, epochs=15, batch_size=32, verbose=0)\n",
    "# define the grid search parameters\n",
    "optimizer = ['Adam', 'Adamax', 'SGD', 'RMSprop', 'Adagrad', 'Adadelta',  'Nadam']\n",
    "param_grid = dict(optimizer=optimizer)\n",
    "grid = GridSearchCV(estimator=model, param_grid=param_grid, n_jobs=-1, cv=3)\n",
    "grid_result = grid.fit(X, Y)\n",
    "# summarize results\n",
    "print(\"Best: %f using %s\" % (grid_result.best_score_, grid_result.best_params_))\n",
    "means = grid_result.cv_results_['mean_test_score']\n",
    "stds = grid_result.cv_results_['std_test_score']\n",
    "params = grid_result.cv_results_['params']\n",
    "for mean, stdev, param in zip(means, stds, params):\n",
    "    print(\"%f (%f) with: %r\" % (mean, stdev, param))"
   ]
  },
  {
   "cell_type": "code",
   "execution_count": null,
   "metadata": {},
   "outputs": [],
   "source": [
    "We can see that the best results were achieved with a uniform weight initialization scheme achieving a performance of about 72%."
   ]
  }
 ],
 "metadata": {
  "kernelspec": {
   "display_name": "Python 3",
   "language": "python",
   "name": "python3"
  },
  "language_info": {
   "codemirror_mode": {
    "name": "ipython",
    "version": 3
   },
   "file_extension": ".py",
   "mimetype": "text/x-python",
   "name": "python",
   "nbconvert_exporter": "python",
   "pygments_lexer": "ipython3",
   "version": "3.6.10"
  }
 },
 "nbformat": 4,
 "nbformat_minor": 4
}
