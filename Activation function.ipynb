{
 "cells": [
  {
   "cell_type": "code",
   "execution_count": 2,
   "metadata": {},
   "outputs": [
    {
     "name": "stdout",
     "output_type": "stream",
     "text": [
      "Best: 0.021636 using {'activation': 'relu'}\n",
      "0.000000 (0.000000) with: {'activation': 'sigmoid'}\n",
      "0.021636 (0.030598) with: {'activation': 'relu'}\n",
      "0.002705 (0.003825) with: {'activation': 'softmax'}\n",
      "0.021636 (0.030598) with: {'activation': 'softplus'}\n",
      "0.000000 (0.000000) with: {'activation': 'softsign'}\n",
      "0.021636 (0.030598) with: {'activation': 'tanh'}\n",
      "0.000000 (0.000000) with: {'activation': 'hard_sigmoid'}\n",
      "0.000000 (0.000000) with: {'activation': 'linear'}\n"
     ]
    }
   ],
   "source": [
    "\n",
    "# Use scikit-learn to grid search the activation function\n",
    "import os\n",
    "import math\n",
    "import warnings\n",
    "import numpy as np\n",
    "import pandas as pd\n",
    "import seaborn as sns\n",
    "import tensorflow as tf\n",
    "from pylab import rcParams\n",
    "from pandas import datetime\n",
    "import statsmodels.api as sm\n",
    "import matplotlib.pyplot as plt\n",
    "plt.style.use('fivethirtyeight')\n",
    "warnings.filterwarnings('ignore')\n",
    "rcParams['figure.figsize'] = 12, 7\n",
    "from subprocess import check_output\n",
    "from pandas.plotting import lag_plot\n",
    "from sklearn.preprocessing import MinMaxScaler\n",
    "from keras.models import Sequential, load_model\n",
    "from keras.layers import LSTM, Dense, Dropout\n",
    "from sklearn.metrics import mean_squared_error, mean_absolute_error\n",
    "import numpy\n",
    "from sklearn.model_selection import GridSearchCV\n",
    "from keras.models import Sequential\n",
    "from keras.layers import Dense\n",
    "from keras.wrappers.scikit_learn import KerasClassifier\n",
    "# Function to create model, required for KerasClassifier\n",
    "def create_model(activation='relu'):\n",
    "\t# create model\n",
    "\tmodel = Sequential()\n",
    "\tmodel.add(Dense(12, input_dim=6, kernel_initializer='uniform', activation=activation)) #input_dim=8,\n",
    "\tmodel.add(Dense(1, kernel_initializer='uniform', activation='relu'))\n",
    "\t# Compile model\n",
    "\tmodel.compile(loss='mse', optimizer='adam', metrics=['accuracy'])\n",
    "\treturn model\n",
    "# fix random seed for reproducibility\n",
    "seed = 7\n",
    "numpy.random.seed(seed)\n",
    "# load dataset\n",
    "dataset = numpy.loadtxt(\"/Users/markjuvert/Desktop/RNN/Limestone_data.csv\", delimiter=\",\")\n",
    "# split into input (X) and output (Y) variables\n",
    "X = dataset[:,0:8]\n",
    "Y = dataset[:,2]\n",
    "# create model\n",
    "model = KerasClassifier(build_fn=create_model, epochs=20, batch_size=10, verbose=0)\n",
    "# define the grid search parameters\n",
    "activation = ['sigmoid', 'relu', 'softmax', 'softplus', 'softsign', 'tanh', 'hard_sigmoid', 'linear']\n",
    "param_grid = dict(activation=activation)\n",
    "grid = GridSearchCV(estimator=model, param_grid=param_grid, n_jobs=-1, cv=3)\n",
    "grid_result = grid.fit(X, Y)\n",
    "# summarize results\n",
    "print(\"Best: %f using %s\" % (grid_result.best_score_, grid_result.best_params_))\n",
    "means = grid_result.cv_results_['mean_test_score']\n",
    "stds = grid_result.cv_results_['std_test_score']\n",
    "params = grid_result.cv_results_['params']\n",
    "for mean, stdev, param in zip(means, stds, params):\n",
    "    print(\"%f (%f) with: %r\" % (mean, stdev, param))"
   ]
  },
  {
   "cell_type": "code",
   "execution_count": null,
   "metadata": {},
   "outputs": [],
   "source": []
  }
 ],
 "metadata": {
  "kernelspec": {
   "display_name": "Python 3",
   "language": "python",
   "name": "python3"
  },
  "language_info": {
   "codemirror_mode": {
    "name": "ipython",
    "version": 3
   },
   "file_extension": ".py",
   "mimetype": "text/x-python",
   "name": "python",
   "nbconvert_exporter": "python",
   "pygments_lexer": "ipython3",
   "version": "3.6.10"
  }
 },
 "nbformat": 4,
 "nbformat_minor": 4
}
